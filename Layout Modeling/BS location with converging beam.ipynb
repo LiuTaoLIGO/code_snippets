{
 "cells": [
  {
   "cell_type": "code",
   "execution_count": 1,
   "id": "fd1262e9-b00b-497c-860d-1fd30f75c639",
   "metadata": {},
   "outputs": [],
   "source": [
    "import numpy as np\n",
    "import matplotlib.pyplot as plt\n",
    "import finesse\n",
    "finesse.configure(plotting=True)"
   ]
  },
  {
   "cell_type": "code",
   "execution_count": null,
   "id": "0573e22c-b43c-4aaf-ade8-6ef02694a1ca",
   "metadata": {},
   "outputs": [],
   "source": [
    "power = 1  # default laser power in Watt\n",
    "w0 = 10e-3   # default gaussian waist size in meter3\n",
    "alpha = 30   # angle of incidence for both BS in degrees0\n",
    "xbeta = 1e-5 # default tilt of both beam splitters in radians\n",
    "s1 = 1000    # distance till 1st beamsplitter\n",
    "s2 = 400     # distance between beamsplitters\n",
    "s3 = 600     # default distance between 2nd beamsplitter and detector\n",
    "z0 = -1200   # default waist position, 1200 meter right of laser\n",
    "maxtem = 7   # default maxtem\n",
    "\n",
    "basescript = f\"\"\"\n",
    "laser l1 P={power}\n",
    "gauss g1 l1.p1.o w0={w0} z={z0}\n",
    "modes(maxtem={maxtem})\n",
    "\n",
    "space s1 l1.p1 bs1.p1 L={s1}\n",
    "beamsplitter BS R=1 T=0 alpha={alpha} xbeta={xbeta}\n",
    "\n",
    "space s2 BS.p2 XM.p1 L={s2}\n",
    "mirror XM R=1 T=0 \n",
    "space s3 bs2.p2 n1.p1 L={s3}\n",
    "\n",
    "# Add a 'nothing' component at the location of the detector\n",
    "nothing n1\n",
    "\"\"\"\n",
    "\n",
    "basekat = finesse.Model()\n",
    "basekat.parse(basescript)"
   ]
  },
  {
   "cell_type": "code",
   "execution_count": null,
   "id": "3704cd26-6dfe-441c-813b-ddf3bb8c890e",
   "metadata": {},
   "outputs": [],
   "source": []
  },
  {
   "cell_type": "code",
   "execution_count": null,
   "id": "1143541f-e9a2-4da6-9e7d-9f31c4036e94",
   "metadata": {},
   "outputs": [],
   "source": []
  },
  {
   "cell_type": "code",
   "execution_count": null,
   "id": "12604cf3-8a02-474b-a48c-2ee48502be3f",
   "metadata": {},
   "outputs": [],
   "source": []
  },
  {
   "cell_type": "code",
   "execution_count": null,
   "id": "9458fd12-d416-45e5-b785-4cd5bc63abec",
   "metadata": {},
   "outputs": [],
   "source": []
  }
 ],
 "metadata": {
  "kernelspec": {
   "display_name": "Python 3 (ipykernel)",
   "language": "python",
   "name": "python3"
  },
  "language_info": {
   "codemirror_mode": {
    "name": "ipython",
    "version": 3
   },
   "file_extension": ".py",
   "mimetype": "text/x-python",
   "name": "python",
   "nbconvert_exporter": "python",
   "pygments_lexer": "ipython3",
   "version": "3.11.0"
  }
 },
 "nbformat": 4,
 "nbformat_minor": 5
}
