{
 "cells": [
  {
   "cell_type": "code",
   "execution_count": 4,
   "metadata": {},
   "outputs": [],
   "source": [
    "import numpy as np\n",
    "import pandas as pd               \n",
    "from scipy.special import factorial\n",
    "import fileinput"
   ]
  },
  {
   "cell_type": "markdown",
   "metadata": {},
   "source": [
    "## Information:\n",
    "1. The file is about calculating the ''layer coefficients'' from a given measured map, such as *'ETM05_S1_finesse'*\n",
    "\n",
    "2. The layer coefficients calculated here are used to generate random maps that has the same layer coefficients (i.e. same spatial frequency content) (in notebook *''Random maps generation with ETM05_S1_finesse.ipynb''* ) \n",
    "\n",
    "3. To test that the functions in this notebook, a test file 'testing.txt' is generated in *Random maps generation with ETM05_S1_finesse.ipynb* with the fake layer coefficients [0,0,1,2,3,4,5,6,7,8]. Decomposing the testing map in this noteook, the resulting coefficients are close to [0,0,1,2,3,4,5,6,7,8], see below."
   ]
  },
  {
   "cell_type": "code",
   "execution_count": 5,
   "metadata": {},
   "outputs": [],
   "source": [
    "# return a list of Zernike maps(basis) for aLIGO maps to project to\n",
    "def Zernikes(shape, radius, step_size, max_zern):\n",
    "    center = (shape-1)/2 # Center of the map\n",
    "    rrange = radius/step_size  # Range of the map such that the radius is 0.15 for a given step_size\n",
    "    zernikes=[] # list of Zernike maps\n",
    "\n",
    "    # This is the same set of functions in the Zernike maps generation notebook\n",
    "    def theta(x,y):\n",
    "        phi = np.arctan2(y, x)\n",
    "        return phi\n",
    "\n",
    "    def radial(x,y,n,m):\n",
    "        if m<0:\n",
    "            m=-m\n",
    "        sum=0\n",
    "        for k in range(int((n-m)/2)+1):   \n",
    "            r=(-1)**k*factorial(n-k)/factorial(k)/factorial((n+m)/2-k)/factorial((n-m)/2-k)*((x**2+y**2)/(rrange**2))**(n/2-k)\n",
    "            # Here I used '(x**2+y**2)/(rrange**2)' instead of just '(x**2+y**2)' to normalize the radius\n",
    "            sum+=r\n",
    "        return sum\n",
    "\n",
    "    def angular(x,y,n,m): \n",
    "        a=theta(x,y)\n",
    "        if m>=0:\n",
    "            angular=np.cos(m*a)\n",
    "        else:\n",
    "            angular=-np.sin(m*a)\n",
    "        return angular\n",
    "    \n",
    "    for n in range(max_zern):\n",
    "        for m in range(-n,n+1,2):\n",
    "            stepRange = np.arange(shape)-center\n",
    "            x,y=np.meshgrid(stepRange,stepRange,sparse=True)\n",
    "            zfunc=radial(x,y,n,m)*angular(x,y,n,m)\n",
    "            for i in range(shape):\n",
    "                for j in range(shape): \n",
    "                    if (i-center)**2+(j-center)**2>= rrange**2:\n",
    "                        zfunc[i][j]=0  # Set the values outside the cropping radius to zero\n",
    "            zmap=zfunc/np.abs(zfunc).max() # Such that the amplitude(maximum value in the map data) equals to 1\n",
    "            zernikes.append(zmap)\n",
    "    return zernikes # Return a list of Zernike maps"
   ]
  },
  {
   "cell_type": "code",
   "execution_count": 6,
   "metadata": {},
   "outputs": [],
   "source": [
    "def layerCoeffs(filename, zernikebasis, order=10):\n",
    "    i=0 # Create a conversion between {n}{m} to {i}\n",
    "    dic={}\n",
    "    for n in range(order):\n",
    "        for m in range(-n,n+1,2):\n",
    "            dic[f'{n}{m}']=i\n",
    "            i=i+1\n",
    "\n",
    "    aLIGO=pd.read_csv(filename, header=None, sep=\" \", skiprows=9).dropna(axis=1).values\n",
    "    \n",
    "    layerCoeff=[0,0] # Two zeros represent the first two layer coefficients\n",
    "    for n in range(2,order): # Start from the third layer\n",
    "        layer=0\n",
    "        for m in range(-n,n+1,2):\n",
    "            index=dic[f'{n}{m}']\n",
    "            coeff=((aLIGO*zernikebasis[index]).sum())/((zernikebasis[index]**2).sum())\n",
    "            if n==2 and m==0: # The coefficient of Z20 will not be added to the layer coefficient since it can be removed manually\n",
    "                continue\n",
    "            else:\n",
    "                layer+=coeff**2\n",
    "        layerCoeff.append(np.sqrt(layer))\n",
    "    return layerCoeff"
   ]
  },
  {
   "cell_type": "code",
   "execution_count": 7,
   "metadata": {},
   "outputs": [],
   "source": [
    "# generate the zernike basis, this takes a long time to run\n",
    "basis_10 = Zernikes(1131,0.15,0.0002669951063580811,10)\n",
    "basis_25 = Zernikes(1131,0.15,0.0002669951063580811,25)"
   ]
  },
  {
   "cell_type": "code",
   "execution_count": 8,
   "metadata": {},
   "outputs": [
    {
     "data": {
      "text/plain": [
       "[0,\n",
       " 0,\n",
       " 0.9991775923262345,\n",
       " 1.9993048676357508,\n",
       " 2.999679396670623,\n",
       " 4.000356833087034,\n",
       " 4.999081659420682,\n",
       " 5.994341533038726,\n",
       " 6.999764940271446,\n",
       " 7.999018210477589]"
      ]
     },
     "execution_count": 8,
     "metadata": {},
     "output_type": "execute_result"
    }
   ],
   "source": [
    "# Testing of random map generation\n",
    "# the 'testing.txt' was generated in the random maps generation file with layer coefficients of [0,0,1,2,3,4,5,6,7,8]\n",
    "layerCoeffs('testing.txt', basis_10)\n",
    "# and we do get [0,0,1,2,3,4,5,6,7,8]"
   ]
  },
  {
   "cell_type": "code",
   "execution_count": 11,
   "metadata": {},
   "outputs": [
    {
     "data": {
      "text/plain": [
       "[0,\n",
       " 0,\n",
       " 0.20190713375335295,\n",
       " 0.14589743213720582,\n",
       " 0.13728131907327343,\n",
       " 0.06476026222531273,\n",
       " 0.06396438434566959,\n",
       " 0.061635581927653296,\n",
       " 0.11786865519746435,\n",
       " 0.10733282124903534,\n",
       " 0.07524138634759972,\n",
       " 0.046375544797053296,\n",
       " 0.05357200662514628,\n",
       " 0.0878930592250278,\n",
       " 0.07583595265248438,\n",
       " 0.0749722539467617,\n",
       " 0.07595435402124659,\n",
       " 0.06254947966202423,\n",
       " 0.08196084165372425,\n",
       " 0.08585295172293457,\n",
       " 0.08870503602805532,\n",
       " 0.09579683509187605,\n",
       " 0.08575422531961867,\n",
       " 0.07738351927467899,\n",
       " 0.07309294568711436]"
      ]
     },
     "execution_count": 11,
     "metadata": {},
     "output_type": "execute_result"
    }
   ],
   "source": [
    "layerCoeffs('ETM05_S1_finesse.txt', basis_25, order=25)\n",
    "\n",
    "# Use these set of values to generate the random maps"
   ]
  },
  {
   "cell_type": "code",
   "execution_count": null,
   "metadata": {},
   "outputs": [],
   "source": []
  }
 ],
 "metadata": {
  "kernelspec": {
   "display_name": "Python 3 (ipykernel)",
   "language": "python",
   "name": "python3"
  },
  "language_info": {
   "codemirror_mode": {
    "name": "ipython",
    "version": 3
   },
   "file_extension": ".py",
   "mimetype": "text/x-python",
   "name": "python",
   "nbconvert_exporter": "python",
   "pygments_lexer": "ipython3",
   "version": "3.11.0"
  },
  "varInspector": {
   "cols": {
    "lenName": 16,
    "lenType": 16,
    "lenVar": 40
   },
   "kernels_config": {
    "python": {
     "delete_cmd_postfix": "",
     "delete_cmd_prefix": "del ",
     "library": "var_list.py",
     "varRefreshCmd": "print(var_dic_list())"
    },
    "r": {
     "delete_cmd_postfix": ") ",
     "delete_cmd_prefix": "rm(",
     "library": "var_list.r",
     "varRefreshCmd": "cat(var_dic_list()) "
    }
   },
   "types_to_exclude": [
    "module",
    "function",
    "builtin_function_or_method",
    "instance",
    "_Feature"
   ],
   "window_display": false
  }
 },
 "nbformat": 4,
 "nbformat_minor": 2
}
