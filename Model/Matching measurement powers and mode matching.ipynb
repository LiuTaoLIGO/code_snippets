{
 "cells": [
  {
   "cell_type": "code",
   "execution_count": 1,
   "id": "48bad9ef",
   "metadata": {},
   "outputs": [],
   "source": [
    "import numpy as np\n",
    "import scipy.optimize as optimize\n",
    "import matplotlib as mpl\n",
    "import matplotlib.pyplot as plt\n",
    "from mpl_toolkits.axes_grid1 import make_axes_locatable\n",
    "\n",
    "import finesse\n",
    "from finesse.gaussian import BeamParam\n",
    "from finesse.analysis.actions import RunLocks, Noxaxis, Xaxis\n",
    "from finesse import ligo\n",
    "from finesse.knm.maps import Map\n",
    "from finesse.utilities.maps import circular_aperture, surface_point_absorber as spa\n",
    "\n",
    "from LLOF3NoSqz import make_LLO\n",
    "\n",
    "finesse.configure(plotting=True)\n",
    "\n",
    "import warnings\n",
    "warnings.filterwarnings('ignore')"
   ]
  },
  {
   "cell_type": "code",
   "execution_count": 2,
   "id": "bf6b4aa6",
   "metadata": {
    "code_folding": [
     0
    ]
   },
   "outputs": [],
   "source": [
    "def cavityPole(LLO, plot=False):\n",
    "    LLO.modes(maxtem=4)\n",
    "    LLOSignal = LLO.deepcopy()\n",
    "    LLOSignal.parse(\"\"\"\n",
    "    fsig(1)\n",
    "\n",
    "    frequency_response(\n",
    "    geomspace(10, 6k, 200),  # frequency vector\n",
    "    [DARM,],  # injection nodes, dof DARM\n",
    "    AS.DC,  # OMC_OC.p3.o DC, AS port\n",
    "    name='signal transfer function'\n",
    "    )\n",
    "\n",
    "    \"\"\")\n",
    "\n",
    "    sol = LLOSignal.run()\n",
    "\n",
    "    solution = np.abs(sol['signal transfer function'])\n",
    "    scaled = solution.max()/solution\n",
    "\n",
    "    ratio = 10**(3/20)\n",
    "    argmax = (1/(np.abs(scaled-ratio))).argmax()\n",
    "    x = np.logspace(np.log10(10), np.log10(6000), num=200)\n",
    "    \n",
    "#     print(f\"The 3dB Signal PSD Decrement Frequency (the Pole Frequency) Is at: {} Hz\")\n",
    "    \n",
    "    if plot:\n",
    "        fig,ax = plt.subplots(1,1,figsize=(6,4))\n",
    "        y = np.abs(sol[\"signal transfer function\"])\n",
    "        ax.loglog(x, y)\n",
    "\n",
    "        # ax.set_title(\"Signal Transfer Function (DARM -> AS)\", fontsize=13)\n",
    "        # ax.axvline(x=x[argmax], ymin=0.1, ymax=scaled[argmax])\n",
    "        # ax.axhline(y=scaled[argmax], xmin=x[0], xmax=x[argmax])\n",
    "        ax.set_ylabel(\"Signal TF (DARM -> AS)\", fontsize=13)\n",
    "        ax.set_xlabel(\"fsig.f [Hz]\", fontsize=13)\n",
    "        ax.scatter(x[argmax], y[argmax]);\n",
    "        \n",
    "    return x[argmax]"
   ]
  },
  {
   "cell_type": "code",
   "execution_count": 3,
   "id": "9161b9a2",
   "metadata": {
    "code_folding": [
     0
    ]
   },
   "outputs": [],
   "source": [
    "def shotNoise(LLO, plot=False):\n",
    "    LLO.modes(maxtem=4)\n",
    "    LLOQNLSNoOutput = LLO.deepcopy()\n",
    "\n",
    "    LLOQNLSNoOutput.parse(\"\"\"\n",
    "    ###########################################################################\n",
    "    ### pendulum for QRPN\n",
    "    variable Mitmy 39.420 \n",
    "    variable Metmy 39.642\n",
    "    variable Mitmx 39.603\n",
    "    variable Metmx 39.508\n",
    "\n",
    "    pendulum itmx_sus ITMX.mech mass=&Mitmx\n",
    "    pendulum etmx_sus ETMX.mech mass=&Metmx\n",
    "    pendulum itmy_sus ITMY.mech mass=&Mitmy\n",
    "    pendulum etmy_sus ETMY.mech mass=&Metmy\n",
    "\n",
    "    fsig(1)\n",
    "    sgen darmx LX.h\n",
    "    sgen darmy LY.h phase=180\n",
    "\n",
    "    qnoised qnoise SRMAR.p2.o nsr=True\n",
    "    qshot qshot SRMAR.p2.o nsr=True\n",
    "\n",
    "    xaxis(darmx.f, log, 10, 6k, 100, \n",
    "                pre_step=run_locks(method='newton', display_progress=false, max_iterations=1000))\n",
    "\n",
    "    ad AMP45 SRMAR.p2.o f=&f2\n",
    "    ad AMPCar SRMAR.p2.o f=0\n",
    "    \"\"\")\n",
    "    outLLONoOutput = LLOQNLSNoOutput.run()\n",
    "\n",
    "    x = np.logspace(np.log10(10), np.log10(6000), num=101)\n",
    "\n",
    "    if plot:\n",
    "        fig,ax = plt.subplots(1,1,figsize=(6,4))\n",
    "        ax.loglog(x, outLLONoOutput[\"qnoise\"].real, 'r', label='Quantum Noise')\n",
    "        ax.loglog(x, outLLONoOutput[\"qshot\"].real, 'b--', label='Shot Noise')\n",
    "\n",
    "        ax.set_title(\"LLO L1\", fontsize=13)\n",
    "        ax.set_ylabel(\"ASD [W/sqrt(Hz)]\", fontsize=13)\n",
    "        ax.legend(loc = 'best', fontsize=13)\n",
    "        ax.set_xlabel(\"fsig.f [Hz]\", fontsize=13);\n",
    "    \n",
    "    return x, outLLONoOutput[\"qnoise\"].real"
   ]
  },
  {
   "cell_type": "code",
   "execution_count": 4,
   "id": "f72b8795",
   "metadata": {},
   "outputs": [],
   "source": [
    "LIGOIFO = finesse.Model()\n",
    "LIGOIFO.parse_file(\"LIGO_degisn.txt\")\n",
    "\n",
    "LLObase = make_LLO(LIGOIFO.deepcopy())"
   ]
  },
  {
   "cell_type": "code",
   "execution_count": 5,
   "id": "ec03e212",
   "metadata": {},
   "outputs": [
    {
     "name": "stdout",
     "output_type": "stream",
     "text": [
      "PRG: 43.280200. ##  Measurement: (42.84, 42.92)\n",
      "Prefl: 1.407442 W.  ##  Measurement: (2.04, 2.05)\n",
      "PAS: 474.537826 mW.  ##  Measurement: (511.81, 513.82)\n",
      "PASCarrier: (After OMC) 11.338380 mW.  ##  Estimate: (25, 30)\n",
      "\n",
      "PAS 45 MHz: 0.4564226006450491\n",
      "PAS 9 MHz: 0.0014986108712268138\n",
      "PAS junk light (non-HG00) in the carrier: 0.004679338033863223\n",
      "\n",
      "Full IFO mode matching (BP) is: 0.9754283197702485\n",
      "\n",
      "Input beam parameter is BeamParam(w0=1.0645 mm, z=5.5423 m, w=2.0598 mm, Rc=7.5619 m)\n",
      "\n",
      "The contrast defect is 846.43 ppm\n"
     ]
    }
   ],
   "source": [
    "#\n",
    "LLO = LLObase.deepcopy()\n",
    "\n",
    "LLO.mod1.midx = 0.135#0.133\n",
    "LLO.mod2.midx = 0.1645#0.145\n",
    "\n",
    "LLO.modes(maxtem=8)\n",
    "\n",
    "LLO.DARM.DC = 0.00092\n",
    "LLO.remove(LLO.DARM_dc_lock)\n",
    "\n",
    "lossX = 11.25e-6 \n",
    "lossY = 11.25e-6 \n",
    "LLO.ETMY.set_RTL(L=4e-05+lossY, T=3.9e-06)\n",
    "LLO.ETMX.set_RTL(L=4e-05+lossX, T=4e-06)\n",
    "\n",
    "LLO.ITMX.Rc = -1958.4\n",
    "LLO.ITMY.Rc = -1962.4\n",
    "LLO.lensfX.value = 1/(55.8e-6)\n",
    "LLO.lensfY.value = 1/(44.4e-6)\n",
    "\n",
    "LLO.ETMX.Rc = 2259.8\n",
    "LLO.ETMY.Rc = 2254.6\n",
    "\n",
    "# q = LLO.create_mismatch(LLO.PRMAR.p1.i, w0_mm=1, z_mm=1)\n",
    "\n",
    "delta = -0.65e-4#-1.957e-4#2.045e-4\n",
    "pr2pr3 = 16.1648\n",
    "LLO.lp2.L = pr2pr3*(1-delta)\n",
    "\n",
    "# delta = 2e-4#-1.957e-4#2.045e-4\n",
    "# sr2sr3 = 15.4435\n",
    "# LLO.ls2.L = sr2sr3*(1-delta)\n",
    "\n",
    "LLO.parse(f\"\"\"\n",
    "bp input PRMAR.p1.i q direction=x q_as_bp=true\n",
    "\n",
    "pd Pin PRMAR.p1.i\n",
    "pd PRefl PRMAR.p1.o\n",
    "pd PAS SRMAR.p2.o\n",
    "\n",
    "ad ASC2 OMC_OC.p3.o f=0\n",
    "ad ASC SRMAR.p2.o f=0\n",
    "ad PAS45 SRMAR.p2.o f=&f2\n",
    "ad PAS45M SRMAR.p2.o f=-&f2\n",
    "\n",
    "ad PAS9 SRMAR.p2.o f=&f1\n",
    "ad PAS9M SRMAR.p2.o f=-&f1\n",
    "\n",
    "ad PASHG00 SRMAR.p2.o f=0 n=0 m=0\n",
    "\n",
    "# For PRG\n",
    "pd Pcirc PRM.p2.o\n",
    "\n",
    "noxaxis(pre_step=run_locks(\n",
    "            method='newton',\n",
    "            display_progress=false,\n",
    "            max_iterations=1000)\n",
    ")\n",
    "\n",
    "ad OMCIN OMC_IC.p1.i f=0\n",
    "ad OMCREFL OMC_IC.p2.o f=0\n",
    "ad OMCREFLHG00 OMC_IC.p2.o f=0 n=0 m=0\n",
    "\n",
    "mmd modemismatchBP OMC_IC.p1.i OMC_IC.p3.o direction=x percent=false\n",
    "\n",
    "# For Contrast Defect\n",
    "pd PBS2AS BSAR2.p4.o\n",
    "pd PINBS BS.p1.i\n",
    "\n",
    "\"\"\")\n",
    "\n",
    "kat1 = LLO.deepcopy()\n",
    "out = kat1.run()\n",
    "\n",
    "print(f\"PRG: {out['Pcirc']/out['Pin']:.6f}. ##  Measurement: (42.84, 42.92)\")\n",
    "print(f\"Prefl: {out['PRefl']:.6f} W.  ##  Measurement: (2.04, 2.05)\")\n",
    "print(f\"PAS: {out['PAS']*1e3:.6f} mW.  ##  Measurement: (511.81, 513.82)\")\n",
    "print(f\"PASCarrier: (After OMC) {np.abs(out['ASC2'])**2*1e3:.6f} mW.  ##  Estimate: (25, 30)\")\n",
    "# print(f\"PASCarrier (Before OMC): {np.abs(out['ASC'])**2}\")\n",
    "# print(f\"HG00 into OMC: {np.abs(out['PASHG00'])**2}\")\n",
    "\n",
    "print()\n",
    "print(f\"PAS 45 MHz: {np.abs(out['PAS45'])**2+np.abs(out['PAS45M'])**2}\")\n",
    "print(f\"PAS 9 MHz: {np.abs(out['PAS9'])**2+np.abs(out['PAS9M'])**2}\")\n",
    "\n",
    "print(f\"PAS junk light (non-HG00) in the carrier: {np.abs(out['ASC'])**2-np.abs(out['PASHG00'])**2}\")\n",
    "\n",
    "# print()\n",
    "# print(f\"Input beam parameter: {out['input']}\")3\n",
    "print()\n",
    "# print(f\"Full IFO mode matching (Power) is: \\\n",
    "# {1-np.abs(out['OMCREFL'])**2/np.abs(out['OMCIN'])**2}\")\n",
    "print(f\"Full IFO mode matching (BP) is: \\\n",
    "{1-out['modemismatchBP']}\")\n",
    "# print(f\"HOM power in the carrier at OMC REFL: {np.abs(out['OMCREFL'])**2-np.abs(out['OMCREFLHG00'])**2}\")\n",
    "# print(f\"Carrier power going into the OMC: {np.abs(out['OMCIN'])**2}\")\n",
    "\n",
    "# print(f\"Full IFO mode matching (BP) is: {1-out['modemismatchBP']}\")\n",
    "print()\n",
    "print(f\"Input beam parameter is {out['input']}\")\n",
    "print()\n",
    "# print(f\"The cavity pole is {cavityPole(LLO):.4f} Hz\")\n",
    "print(f\"The contrast defect is {out['PBS2AS']/out['PINBS']*1e6:.2f} ppm\")"
   ]
  },
  {
   "cell_type": "code",
   "execution_count": 6,
   "id": "16e90d5f",
   "metadata": {},
   "outputs": [
    {
     "data": {
      "text/plain": [
       "458.46535905070596"
      ]
     },
     "execution_count": 6,
     "metadata": {},
     "output_type": "execute_result"
    }
   ],
   "source": [
    "cavityPole(LLO)"
   ]
  },
  {
   "cell_type": "code",
   "execution_count": null,
   "id": "9d9a50bd",
   "metadata": {},
   "outputs": [],
   "source": []
  },
  {
   "cell_type": "code",
   "execution_count": null,
   "id": "d20799d0",
   "metadata": {},
   "outputs": [],
   "source": []
  },
  {
   "cell_type": "code",
   "execution_count": null,
   "id": "7e78b19f",
   "metadata": {},
   "outputs": [],
   "source": []
  },
  {
   "cell_type": "code",
   "execution_count": null,
   "id": "0d674dd0",
   "metadata": {},
   "outputs": [],
   "source": []
  }
 ],
 "metadata": {
  "kernelspec": {
   "display_name": "Python 3 (ipykernel)",
   "language": "python",
   "name": "python3"
  },
  "language_info": {
   "codemirror_mode": {
    "name": "ipython",
    "version": 3
   },
   "file_extension": ".py",
   "mimetype": "text/x-python",
   "name": "python",
   "nbconvert_exporter": "python",
   "pygments_lexer": "ipython3",
   "version": "3.11.0"
  },
  "latex_envs": {
   "LaTeX_envs_menu_present": true,
   "autoclose": false,
   "autocomplete": true,
   "bibliofile": "biblio.bib",
   "cite_by": "apalike",
   "current_citInitial": 1,
   "eqLabelWithNumbers": true,
   "eqNumInitial": 1,
   "hotkeys": {
    "equation": "Ctrl-E",
    "itemize": "Ctrl-I"
   },
   "labels_anchors": false,
   "latex_user_defs": false,
   "report_style_numbering": false,
   "user_envs_cfg": false
  },
  "varInspector": {
   "cols": {
    "lenName": 16,
    "lenType": 16,
    "lenVar": 40
   },
   "kernels_config": {
    "python": {
     "delete_cmd_postfix": "",
     "delete_cmd_prefix": "del ",
     "library": "var_list.py",
     "varRefreshCmd": "print(var_dic_list())"
    },
    "r": {
     "delete_cmd_postfix": ") ",
     "delete_cmd_prefix": "rm(",
     "library": "var_list.r",
     "varRefreshCmd": "cat(var_dic_list()) "
    }
   },
   "types_to_exclude": [
    "module",
    "function",
    "builtin_function_or_method",
    "instance",
    "_Feature"
   ],
   "window_display": false
  }
 },
 "nbformat": 4,
 "nbformat_minor": 5
}
