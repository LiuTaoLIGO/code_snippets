{
 "cells": [
  {
   "cell_type": "code",
   "execution_count": null,
   "id": "891ad7a6-4a1b-46c6-96c4-c5dd9a814b5f",
   "metadata": {},
   "outputs": [],
   "source": [
    "import numpy as np\n",
    "import matplotlib.pyplot as plt\n",
    "from scipy.ndimage import convolve, generate_binary_structure\n",
    "from finesse.gaussian import HGMode\n",
    "import scipy\n",
    "from mpl_toolkits.mplot3d import Axes3D\n",
    "from matplotlib.animation import PillowWriter\n",
    "from matplotlib import cm\n",
    "from IPython.display import HTML\n",
    "from matplotlib.colors import LinearSegmentedColormap, LogNorm\n",
    "import matplotlib as mpl\n",
    "\n",
    "from mpl_toolkits.axes_grid1 import make_axes_locatable\n",
    "import matplotlib.ticker as ticker\n",
    "from matplotlib.ticker import FormatStrFormatter\n",
    "import matplotlib.animation as animation\n",
    "\n",
    "import finesse\n",
    "# finesse.configure(plotting=True)\n",
    "\n",
    "CB_color_cycle = ['#377eb8', '#ff7f00', '#4daf4a',\n",
    "                  '#f781bf', '#a65628', '#984ea3',\n",
    "                  '#999999', '#e41a1c', '#dede00']\n",
    "\n",
    "%config InlineBackend.figure_format='svg'\n",
    "# %matplotlib widget\n",
    "\n",
    "# %matplotlib notebook\n",
    "# %matplotlib notebook  "
   ]
  },
  {
   "cell_type": "code",
   "execution_count": null,
   "id": "926faa2b-50b1-444a-ac20-b0f210d9267a",
   "metadata": {},
   "outputs": [],
   "source": [
    "N = 404\n",
    "Nz = 202\n",
    "potential_0 = np.zeros((N,N,Nz))\n",
    "\n",
    "# yv, xv, zv = np.meshgrid(np.arange(N),np.arange(N),np.arange(N))\n",
    "# mask1 = xv<1/3*N\n",
    "# mask2 = (1/3*N<=xv)*(xv<2/3*N)\n",
    "# mask3 = xv>=2/3*N\n",
    "\n",
    "# potential_0 = np.where(mask1, (-1+yv/N*2), (1-yv/N*2))\n",
    "# potential_0 = np.where(mask2, (1-yv/N*2), (-1+yv/N*2))"
   ]
  },
  {
   "cell_type": "code",
   "execution_count": null,
   "id": "e84c7089-7022-420e-84cd-25bbdd4e75f7",
   "metadata": {},
   "outputs": [],
   "source": [
    "slc = Nz//2\n",
    "fig, ax = plt.subplots(figsize=(7, 5))\n",
    "\n",
    "# CS = ax.contour(np.arange(N)/N, np.arange(N)/N, potential_0[:,:,slc].T, levels=20)\n",
    "# ax.clabel(CS, CS.levels, inline=True, fontsize=6)\n",
    "ax.imshow(potential_0[:,:,slc].T)\n",
    "ax.set_xlabel('$x/x_0$', fontsize=16)\n",
    "ax.set_ylabel('$y/y_0$', fontsize=16)\n",
    "plt.show()"
   ]
  },
  {
   "cell_type": "code",
   "execution_count": null,
   "id": "cec8ea00-5de9-4703-9f97-a9c53be57c90",
   "metadata": {},
   "outputs": [],
   "source": [
    "kern = generate_binary_structure(3,1).astype(float)/6\n",
    "kern[1,1,1] = 0\n",
    "kern"
   ]
  },
  {
   "cell_type": "code",
   "execution_count": null,
   "id": "e4e3932d-92b9-4cab-9b6a-7e42de7e01db",
   "metadata": {},
   "outputs": [],
   "source": [
    "size = 101\n",
    "gap = 1\n",
    "length = (size-gap*2)//3\n",
    "index1 = length\n",
    "index2 = index1 + gap\n",
    "index3 = index2 + length\n",
    "index4 = index3 + gap\n",
    "print(0, index1, index2, index3, index4, 100)"
   ]
  },
  {
   "cell_type": "code",
   "execution_count": null,
   "id": "a0ea2efd-0296-4daa-9d8d-472b1502dae6",
   "metadata": {},
   "outputs": [],
   "source": [
    "gap = 1\n",
    "def Dirichlet(sol, size=N, gap=gap):\n",
    "    length = (size-gap*2)//3\n",
    "    index1 = length\n",
    "    index2 = index1 + gap\n",
    "    index3 = index2 + length\n",
    "    index4 = index3 + gap\n",
    "    # print(index1, index2, index3, index4)\n",
    "    \n",
    "    sol[:index1, 0, :] = -1; sol[index2:index3, 0, :] = 1; sol[index4:, 0, :] = -1\n",
    "    sol[:index1, -1, :] = 1; sol[index2:index3, -1, :] = -1; sol[index4:, -1, :] = 1\n",
    "\n",
    "    # x and z edges\n",
    "    # sol[0, :, :] = sol[-1, :, :] = 0\n",
    "    # sol[:, :, 0] = sol[:, :, -1] = 0\n",
    "    \n",
    "    # between the electrodes\n",
    "    # sol[index1:index2, 0, :] = 0; sol[index3:index4, 0, :] = 0\n",
    "    # sol[index1:index2, -1, :] = 0; sol[index3:index4, -1, :] = 0\n",
    "    \n",
    "    return sol\n",
    "\n",
    "def Neumann(sol, size=N, gap=gap):\n",
    "    length = (size-gap*2)//3\n",
    "    index1 = length\n",
    "    index2 = index1 + gap\n",
    "    index3 = index2 + length\n",
    "    index4 = index3 + gap\n",
    "    \n",
    "    # x and z edges\n",
    "    sol[0,:,:] = sol[1,:,:]; sol[-1,:,:] = sol[-2,:,:]\n",
    "    sol[:,:,0] = sol[:,:,1]; sol[:,:,-1] = sol[:,:,-2]\n",
    "\n",
    "    # between the electrodes\n",
    "    sol[index1:index2, 0, :] = sol[index1:index2, 1, :]; sol[index3:index4, 0, :] = sol[index3:index4, 1, :]\n",
    "    sol[index1:index2, -1, :] = sol[index1:index2, -2, :]; sol[index3:index4, -1, :] = sol[index3:index4, -2, :]\n",
    "    \n",
    "    return sol\n",
    "# Dirichlet(potential,);"
   ]
  },
  {
   "cell_type": "code",
   "execution_count": null,
   "id": "93cd77ef-327f-41c7-9e78-989712d53cbd",
   "metadata": {},
   "outputs": [],
   "source": [
    "with open('./save/fieldpotential.npy', 'rb') as f:\n",
    "    potential_0 = np.load(f)\n",
    "print(potential_0.shape)\n",
    "\n",
    "potential_0 = scipy.ndimage.zoom(potential_0, [4, 4, 1])\n",
    "print(potential_0.shape)"
   ]
  },
  {
   "cell_type": "code",
   "execution_count": null,
   "id": "cd58a6ce-c402-4c75-8c7c-7e8063bc8281",
   "metadata": {},
   "outputs": [],
   "source": [
    "error = []\n",
    "iters = 100\n",
    "potential = potential_0\n",
    "Ey_sols = []\n",
    "for i in range(iters):\n",
    "    potential_updated = convolve(potential, kern, mode='constant')\n",
    "    # Boundary conditions (Dirchlett & Neumann)\n",
    "    potential_updated = Dirichlet(potential_updated)\n",
    "    potential_updated = Neumann(potential_updated)\n",
    "\n",
    "    # See what error is between consecutive arrays\n",
    "    error.append(np.mean((potential-potential_updated)**2))\n",
    "    potential = potential_updated\n",
    "\n",
    "    if i%10 == 0:\n",
    "        Ex, Ey, Ez = np.gradient(-potential[:,:,:])\n",
    "        Ey = Ey[:,:, 50]\n",
    "        Ey_sols.append(Ey)\n",
    "\n",
    "    if i%30 == 0:\n",
    "        print(f\"{i} iterations have completed...\")\n",
    "\n",
    "Ey_sols = np.array(Ey_sols)"
   ]
  },
  {
   "cell_type": "code",
   "execution_count": null,
   "id": "f4980cc9-c246-4478-b0b2-96bece717c2b",
   "metadata": {},
   "outputs": [],
   "source": [
    "with open('./save/fieldpotential_new.npy', 'wb') as f:\n",
    "    np.save(f, potential)"
   ]
  },
  {
   "cell_type": "code",
   "execution_count": null,
   "id": "9d745196-1a36-4f05-b534-3bbcd5444174",
   "metadata": {},
   "outputs": [],
   "source": [
    "fig, ax = plt.subplots(figsize=(7, 5))\n",
    "\n",
    "ax.semilogy(np.sqrt(np.array(error)), lw=2.5, color=CB_color_cycle[0])\n",
    "# plt.legend()\n",
    "ax.set_xlabel('# of Iterations', fontsize=14)\n",
    "ax.set_ylabel('RMS Error', fontsize=16);\n",
    "ax.set_xlim([-10, 110]);\n",
    "plt.grid()"
   ]
  },
  {
   "cell_type": "code",
   "execution_count": null,
   "id": "f5fc859c-688b-4f87-a080-3a28c812d58b",
   "metadata": {},
   "outputs": [],
   "source": [
    "Ey_sols.shape"
   ]
  },
  {
   "cell_type": "code",
   "execution_count": null,
   "id": "a7c9b6ac-3c83-45f1-b356-1bcfebf85eca",
   "metadata": {},
   "outputs": [],
   "source": [
    "start = 30\n",
    "end = N - start\n",
    "fig, ax = plt.subplots(figsize=(6, 5))\n",
    "    \n",
    "ax.set_xlabel('$x/x_0$', fontsize=16)\n",
    "ax.set_ylabel('$y/y_0$', fontsize=16)\n",
    "ax.set_aspect(1)\n",
    "\n",
    "im = ax.pcolormesh(np.arange(start, end)/N, np.arange(start, end)/N, Ey_sols[0, start:end, start:end].T, cmap='jet')\n",
    "divider = make_axes_locatable(ax)\n",
    "cax = divider.append_axes('right', size='5%', pad=0.1)\n",
    "\n",
    "cbar = fig.colorbar(im, cax=cax, orientation='vertical')\n",
    "tbar = cbar.set_label(label=\"Ey\", fontsize=16, rotation=90, labelpad=2)\n",
    "cbar.ax.yaxis.set_major_formatter(ticker.FormatStrFormatter('%.2f'))\n",
    "\n",
    "def animate(i):\n",
    "    arr = Ey_sols[i, start:end, start:end].T\n",
    "    vmax = np.max(arr)\n",
    "    vmin = np.min(arr)\n",
    "    im.set_array(arr)\n",
    "    im.set_clim(vmin, vmax)\n",
    "    ax.set_title(f\"Iteration Steps: {i*5*10}\", fontsize=12)\n",
    "    cbar.ax.yaxis.set_major_formatter(ticker.FormatStrFormatter('%.2f'))\n",
    "\n",
    "anim = animation.FuncAnimation(fig, animate, interval=100, frames=9,)\n",
    "plt.close()\n",
    "HTML(anim.to_jshtml())"
   ]
  },
  {
   "cell_type": "code",
   "execution_count": null,
   "id": "a54c93b5-f850-4523-b249-5e6621f17215",
   "metadata": {},
   "outputs": [],
   "source": [
    "# anim.save('animation_1.gif',)"
   ]
  },
  {
   "cell_type": "code",
   "execution_count": null,
   "id": "0fdb81ac-6883-4cd3-900d-28b050442c58",
   "metadata": {},
   "outputs": [],
   "source": []
  },
  {
   "cell_type": "code",
   "execution_count": null,
   "id": "245685a7-661b-4ad9-b282-f56676f786d7",
   "metadata": {},
   "outputs": [],
   "source": [
    "with open('./save/fieldpotential_new.npy', 'rb') as f:\n",
    "    potential = np.load(f)"
   ]
  },
  {
   "cell_type": "code",
   "execution_count": null,
   "id": "9ed69876-88d8-4fb4-ae34-dd94fd940bb6",
   "metadata": {},
   "outputs": [],
   "source": [
    "slc = Nz//2\n",
    "fig, ax = plt.subplots(figsize=(6, 6))\n",
    "\n",
    "CS = ax.contour(np.arange(N)/N, np.arange(N)/N, potential[:,:,slc].T, levels=15, colors='k', linewidths=2)\n",
    "ax.clabel(CS, CS.levels, inline=True, fontsize=9)\n",
    "ax.set_xlabel('$x/x_0$', fontsize=18)\n",
    "ax.set_ylabel('$y/y_0$', fontsize=18)\n",
    "plt.grid()\n",
    "plt.show()"
   ]
  },
  {
   "cell_type": "code",
   "execution_count": null,
   "id": "4cc434df-1683-4d75-b4c1-651fe80d2079",
   "metadata": {},
   "outputs": [],
   "source": []
  },
  {
   "cell_type": "markdown",
   "id": "0923617a-d4a0-4a4b-ada6-2b149a2be4c7",
   "metadata": {},
   "source": [
    "$$\\Delta n\\left(E_{y}\\right)=\\frac{1}{2} n_{e}^{3} r_{33} E_{y}$$\n",
    "$$\\Delta \\phi = kL\\Delta n\\left(E_{y}\\right)$$"
   ]
  },
  {
   "cell_type": "code",
   "execution_count": null,
   "id": "bd85864c-44cf-4721-b37a-d49e3a5ffb54",
   "metadata": {},
   "outputs": [],
   "source": [
    "ne = 1.7710\n",
    "r33 = 35e-12 # Electro-optic coefficients pm/V e-12\n",
    "epsilon_eff = 13 # Dielectric constant\n",
    "\n",
    "k = 2*np.pi/(1064e-9)\n",
    "voltage = 1 # 1 V\n",
    "phi_factor = 1/2*ne**3*r33*k*voltage\n",
    "Lx = Ly = 1e-3 #2 mm\n",
    "Lz = 10e-3 #20 mm\n",
    "deltaz = 2*Lz/Nz\n",
    "deltax = 2*Lx/N\n",
    "phi_factor # w"
   ]
  },
  {
   "cell_type": "code",
   "execution_count": null,
   "id": "438436b4-5f32-4300-ba55-d956932840b8",
   "metadata": {},
   "outputs": [],
   "source": [
    "Ex_, Ey_, Ez_ = np.gradient(-potential[:,:,:])\n",
    "Ey = epsilon_eff*Ey_[:,:, 1:-1]/deltax\n",
    "Ey.shape"
   ]
  },
  {
   "cell_type": "code",
   "execution_count": null,
   "id": "fbba3e8f-7995-4dac-ac31-8bf4b77dd6e9",
   "metadata": {},
   "outputs": [],
   "source": [
    "start = N//4\n",
    "end = N - start\n",
    "zslice = Nz//2\n",
    "# Ey_data_slice = scipy.ndimage.zoom(Ey[start:end, start:end, zslice], 10).T\n",
    "Ey_data_slice = Ey[start:end, start:end, zslice].T\n",
    "Ey_data_slice.shape"
   ]
  },
  {
   "cell_type": "code",
   "execution_count": null,
   "id": "b2ff91e7-c7a0-437c-82d1-8cc661dcba52",
   "metadata": {},
   "outputs": [],
   "source": []
  },
  {
   "cell_type": "code",
   "execution_count": null,
   "id": "70dae759-a4b6-4172-ab67-0d24d1068527",
   "metadata": {},
   "outputs": [],
   "source": [
    "zslice = Nz//2\n",
    "start = N//4\n",
    "end = N - start\n",
    "\n",
    "fig, ax = plt.subplots(figsize=(5,5), subplot_kw={\"projection\": \"3d\"})\n",
    "\n",
    "X = np.arange(start, end)/N\n",
    "Y = np.arange(start, end)/N\n",
    "XX, YY = np.meshgrid(X, Y)\n",
    "\n",
    "surf = ax.plot_surface(XX, YY,Ey_data_slice, cmap=cm.jet, linewidth=0, antialiased=False)\n",
    "ax.set_xlabel('$x/x_0$', fontsize=16)\n",
    "ax.set_ylabel('$y/y_0$', fontsize=16)\n",
    "ax.set_axis_off()"
   ]
  },
  {
   "cell_type": "code",
   "execution_count": null,
   "id": "719f756d-9894-4d8c-952d-26a53bea12c1",
   "metadata": {},
   "outputs": [],
   "source": [
    "R = Lx/2 # 1 mm, we zone in to half of the size to get the activate area\n",
    "# w0 = R*.38\n",
    "w0 = R*0.1 # The beam size \n",
    "zR = np.pi*w0**2/(1064e-9)\n",
    "q_0 = zR*1j \n",
    "print(q_0)\n",
    "\n",
    "Beam_0 = HGMode(q_0, n=0, m=0)\n",
    "x = y = np.linspace(-R, R, 201)\n",
    "step = x[1] - x[0]\n",
    "Beam_0_data = Beam_0.unm(x, y)\n",
    "\n",
    "np.sum(np.conj(Beam_0_data)*Beam_0_data)*step**2"
   ]
  },
  {
   "cell_type": "code",
   "execution_count": null,
   "id": "545373d1-b4c4-4926-bc9a-1ce212c0b386",
   "metadata": {},
   "outputs": [],
   "source": [
    "Ey.shape"
   ]
  },
  {
   "cell_type": "code",
   "execution_count": null,
   "id": "caa69f36-97bf-4585-9771-bad769bbfeec",
   "metadata": {},
   "outputs": [],
   "source": [
    "start = N//4\n",
    "end = N - start\n",
    "\n",
    "lenz = 200\n",
    "\n",
    "R = Lx/2 # 2 mm \n",
    "w0 = R*0.1\n",
    "zR = np.pi*w0**2/(1064e-9)\n",
    "q_0 = zR*1j \n",
    "zlim = Lz\n",
    "\n",
    "def HG20_segments(num=10, interpolate=1, voltage=1):\n",
    "    points = []\n",
    "    step = 2/num\n",
    "    point = -1+step/2\n",
    "    points.append(point)\n",
    "    for i in range(num-1):\n",
    "        points.append(point+step)\n",
    "        point = point+step\n",
    "\n",
    "    rho_20s = []\n",
    "    rho_02s = []\n",
    "    grids = 202*interpolate\n",
    "    x = y = np.linspace(-R, R, grids)\n",
    "\n",
    "    for i in range(num):\n",
    "        field_point = points[i]*zlim # the coordinates of the z location, from [-1, 1]\n",
    "        start_z = int(i*lenz/num)\n",
    "        end_z = int((i+1)*lenz/num)\n",
    "\n",
    "        q_0 = np.pi*w0**2/(1064e-9)*1j + field_point # the beam parameter at the z location, from [-1, 1]\n",
    "        \n",
    "        HG_20 = HGMode(q_0, n=2, m=0)\n",
    "        HG_20_data = HG_20.unm(x, y)\n",
    "\n",
    "        HG_02 = HGMode(q_0, n=0, m=2)\n",
    "        HG_02_data = HG_02.unm(x, y)\n",
    "\n",
    "        Beam_0 = HGMode(q_0, n=0, m=0)\n",
    "        Beam_0_data = Beam_0.unm(x, y)\n",
    "        \n",
    "        phi_data = scipy.ndimage.zoom(Ey[start:end, start:end, start_z:end_z].sum(axis=2), interpolate).T*deltaz # The OPD phase for the z slice\n",
    "        # print(f\"The number of data points along the z in this z slice is {end_z-start_z}\")\n",
    "        phi_data_norm = phi_data*phi_factor*voltage\n",
    "        Beam_0_data_new = Beam_0_data*np.exp(1j*phi_data_norm)\n",
    "\n",
    "        # rho_20 = np.sum(np.conj(HG_20_data)*Beam_0_data_new)/np.sum(np.conj(HG_20_data)*HG_20_data)\n",
    "        \n",
    "        rho_20 = np.sum(np.conj(HG_20_data)*Beam_0_data_new)/ \\\n",
    "                        np.sqrt(np.sum(np.conj(HG_20_data)*HG_20_data))/np.sqrt(np.sum(np.conj(Beam_0_data_new)*Beam_0_data_new))\n",
    "        rho_20s.append(rho_20)\n",
    "\n",
    "        rho_02 = np.sum(np.conj(HG_02_data)*Beam_0_data_new)/ \\\n",
    "                        np.sqrt(np.sum(np.conj(HG_02_data)*HG_02_data))/np.sqrt(np.sum(np.conj(Beam_0_data_new)*Beam_0_data_new))\n",
    "        rho_02s.append(rho_02)\n",
    "\n",
    "    return np.array(rho_20s), np.array(rho_02s)"
   ]
  },
  {
   "cell_type": "code",
   "execution_count": null,
   "id": "e2ba8928-b844-4dad-ae99-61d5861af9a5",
   "metadata": {
    "scrolled": true
   },
   "outputs": [],
   "source": [
    "voltages = np.linspace(1, 1e3, 10)\n",
    "results_20s = []\n",
    "results_02s = []\n",
    "for voltage in voltages:\n",
    "    HG20, HG02 = HG20_segments(num=10, interpolate=1, voltage=voltage)\n",
    "\n",
    "    results_20s.append(HG20.sum())\n",
    "    results_02s.append(HG02.sum())"
   ]
  },
  {
   "cell_type": "code",
   "execution_count": null,
   "id": "ab777a29-e10f-43a2-8578-0ff67671cd10",
   "metadata": {},
   "outputs": [],
   "source": [
    "fig, ax = plt.subplots(ncols=1, nrows=1, figsize=(7, 5,), sharex=True)\n",
    "background_color = '#ededed'\n",
    "\n",
    "ax.patch.set_facecolor(background_color)\n",
    "\n",
    "ax.plot(voltages, np.abs(results_20s), lw=2.5, color=CB_color_cycle[2], label=r\"$\\mathrm{HG_{2,0}}$ Mode\")\n",
    "ax.plot(voltages, np.abs(results_02s), lw=2.5, color=CB_color_cycle[7], label=r\"$\\mathrm{HG_{0,2}}$ Mode\")\n",
    "\n",
    "ax.set_ylabel('2nd Order Mode\\nAmplitude', fontsize=16)\n",
    "ax.set_xlabel('Voltage [V]', fontsize=16)\n",
    "\n",
    "# ax.ticklabel_format(axis='y',style='sci',scilimits=(1,4))\n",
    "ax.grid()\n",
    "# ax.set_xticks(range(0, 51, 10))\n",
    "\n",
    "legend = ax.legend(fontsize=14, ncols=1, loc=\"best\");"
   ]
  },
  {
   "cell_type": "code",
   "execution_count": null,
   "id": "3b6fcd70-3c21-4d65-8c36-d01c120fc964",
   "metadata": {},
   "outputs": [],
   "source": []
  },
  {
   "cell_type": "code",
   "execution_count": null,
   "id": "9645a265-901c-4cec-94f3-efa6a9ff4f26",
   "metadata": {},
   "outputs": [],
   "source": []
  },
  {
   "cell_type": "code",
   "execution_count": null,
   "id": "9c211ee5-2422-477e-8c34-6d784ed347e1",
   "metadata": {},
   "outputs": [],
   "source": []
  }
 ],
 "metadata": {
  "kernelspec": {
   "display_name": "Python 3 (ipykernel)",
   "language": "python",
   "name": "python3"
  },
  "language_info": {
   "codemirror_mode": {
    "name": "ipython",
    "version": 3
   },
   "file_extension": ".py",
   "mimetype": "text/x-python",
   "name": "python",
   "nbconvert_exporter": "python",
   "pygments_lexer": "ipython3",
   "version": "3.12.2"
  },
  "varInspector": {
   "cols": {
    "lenName": 16,
    "lenType": 16,
    "lenVar": 40
   },
   "kernels_config": {
    "python": {
     "delete_cmd_postfix": "",
     "delete_cmd_prefix": "del ",
     "library": "var_list.py",
     "varRefreshCmd": "print(var_dic_list())"
    },
    "r": {
     "delete_cmd_postfix": ") ",
     "delete_cmd_prefix": "rm(",
     "library": "var_list.r",
     "varRefreshCmd": "cat(var_dic_list()) "
    }
   },
   "types_to_exclude": [
    "module",
    "function",
    "builtin_function_or_method",
    "instance",
    "_Feature"
   ],
   "window_display": false
  }
 },
 "nbformat": 4,
 "nbformat_minor": 5
}
